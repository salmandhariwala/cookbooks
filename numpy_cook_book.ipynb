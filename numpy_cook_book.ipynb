{
 "cells": [
  {
   "cell_type": "code",
   "execution_count": 1,
   "metadata": {
    "collapsed": true
   },
   "outputs": [],
   "source": [
    "# import numpy\n",
    "import numpy as np"
   ]
  },
  {
   "cell_type": "code",
   "execution_count": 5,
   "metadata": {
    "collapsed": false
   },
   "outputs": [
    {
     "name": "stdout",
     "output_type": "stream",
     "text": [
      "[ 0  1  2  3  4  5  6  7  8  9 10 11 12 13 14]\n",
      "[ 2  3  4  5  6  7  8  9 10 11 12 13 14]\n",
      "[ 2  4  6  8 10 12 14]\n"
     ]
    }
   ],
   "source": [
    "# numpy arange\n",
    "\n",
    "# gives 1d array \n",
    "a = np.arange(15)\n",
    "print(a)\n",
    "\n",
    "a = np.arange(2,15)\n",
    "print(a)\n",
    "\n",
    "a = np.arange(2,15,2)\n",
    "print(a)"
   ]
  },
  {
   "cell_type": "code",
   "execution_count": 10,
   "metadata": {
    "collapsed": false
   },
   "outputs": [
    {
     "name": "stdout",
     "output_type": "stream",
     "text": [
      "[[ 0  1  2  3  4]\n",
      " [ 5  6  7  8  9]\n",
      " [10 11 12 13 14]]\n"
     ]
    }
   ],
   "source": [
    "# numpy reshape\n",
    "\n",
    "# converts 1d array to given provided array\n",
    "# (row * column)\n",
    "a = np.arange(15).reshape(3, 5)\n",
    "print(a)"
   ]
  },
  {
   "cell_type": "code",
   "execution_count": 22,
   "metadata": {
    "collapsed": false
   },
   "outputs": [
    {
     "name": "stdout",
     "output_type": "stream",
     "text": [
      "array is \n",
      "\n",
      " [[[ 0  1  2  3]\n",
      "  [ 4  5  6  7]]\n",
      "\n",
      " [[ 8  9 10 11]\n",
      "  [12 13 14 15]]] \n",
      "\n",
      "shape of array is (2, 2, 4)\n",
      "dimension of array is 3\n",
      "size of array is 16\n"
     ]
    }
   ],
   "source": [
    "a = np.arange(16).reshape(2, 2, 4)\n",
    "print(\"array is \\n\\n {} \\n\".format(a))\n",
    "\n",
    "# get shape of an array\n",
    "print(\"shape of array is {}\".format(a.shape))\n",
    "\n",
    "# get dimension of an array\n",
    "print(\"dimension of array is {}\".format(a.ndim))\n",
    "\n",
    "# get size of elements of an array\n",
    "print(\"size of array is {}\".format(a.size))"
   ]
  },
  {
   "cell_type": "markdown",
   "metadata": {},
   "source": [
    "## Array Creation"
   ]
  },
  {
   "cell_type": "code",
   "execution_count": 28,
   "metadata": {
    "collapsed": false
   },
   "outputs": [
    {
     "name": "stdout",
     "output_type": "stream",
     "text": [
      "<type 'list'>\n",
      "<type 'numpy.ndarray'>\n",
      "shape of array is (2, 4)\n",
      "dimension of array is 2\n",
      "size of array is 8\n"
     ]
    }
   ],
   "source": [
    "# from python list\n",
    "\n",
    "my_list = [ [1,3,5,7] , [2,4,6,8] ]\n",
    "print(type(my_list))\n",
    "\n",
    "my_np_array = np.array(my_list)\n",
    "print(type(my_np_array))\n",
    "\n",
    "# get shape of an array\n",
    "print(\"shape of array is {}\".format(my_np_array.shape))\n",
    "\n",
    "# get dimension of an array\n",
    "print(\"dimension of array is {}\".format(my_np_array.ndim))\n",
    "\n",
    "# get size of elements of an array\n",
    "print(\"size of array is {}\".format(my_np_array.size))"
   ]
  },
  {
   "cell_type": "code",
   "execution_count": 29,
   "metadata": {
    "collapsed": false
   },
   "outputs": [
    {
     "data": {
      "text/plain": [
       "array([[ 0.,  0.,  0.,  0.],\n",
       "       [ 0.,  0.,  0.,  0.],\n",
       "       [ 0.,  0.,  0.,  0.]])"
      ]
     },
     "execution_count": 29,
     "metadata": {},
     "output_type": "execute_result"
    }
   ],
   "source": [
    "# create zeros array\n",
    "np.zeros( (3,4) )"
   ]
  },
  {
   "cell_type": "code",
   "execution_count": 30,
   "metadata": {
    "collapsed": false
   },
   "outputs": [
    {
     "data": {
      "text/plain": [
       "array([[ 1.,  1.,  1.,  1.],\n",
       "       [ 1.,  1.,  1.,  1.],\n",
       "       [ 1.,  1.,  1.,  1.]])"
      ]
     },
     "execution_count": 30,
     "metadata": {},
     "output_type": "execute_result"
    }
   ],
   "source": [
    "# create ones array\n",
    "np.ones( (3,4) )"
   ]
  },
  {
   "cell_type": "code",
   "execution_count": 32,
   "metadata": {
    "collapsed": false
   },
   "outputs": [
    {
     "data": {
      "text/plain": [
       "array([[ 0.,  0.,  0.,  0.],\n",
       "       [ 0.,  0.,  0.,  0.],\n",
       "       [ 0.,  0.,  0.,  0.]])"
      ]
     },
     "execution_count": 32,
     "metadata": {},
     "output_type": "execute_result"
    }
   ],
   "source": [
    "# create random array\n",
    "np.empty( (3,4) )"
   ]
  },
  {
   "cell_type": "markdown",
   "metadata": {},
   "source": [
    "## linspace\n",
    "\n",
    "- get numbers between two points"
   ]
  },
  {
   "cell_type": "code",
   "execution_count": 38,
   "metadata": {
    "collapsed": false
   },
   "outputs": [
    {
     "data": {
      "text/plain": [
       "array([ 0.  ,  0.25,  0.5 ,  0.75,  1.  ,  1.25,  1.5 ,  1.75,  2.  ])"
      ]
     },
     "execution_count": 38,
     "metadata": {},
     "output_type": "execute_result"
    }
   ],
   "source": [
    "np.linspace( 0, 2, 9 )"
   ]
  },
  {
   "cell_type": "code",
   "execution_count": 39,
   "metadata": {
    "collapsed": false
   },
   "outputs": [
    {
     "data": {
      "text/plain": [
       "array([ 0.        ,  0.34906585,  0.6981317 ,  1.04719755,  1.3962634 ,\n",
       "        1.74532925,  2.0943951 ,  2.44346095,  2.7925268 ,  3.14159265])"
      ]
     },
     "execution_count": 39,
     "metadata": {},
     "output_type": "execute_result"
    }
   ],
   "source": [
    "from numpy import pi\n",
    "np.linspace( 0, pi, 10 )"
   ]
  },
  {
   "cell_type": "markdown",
   "metadata": {},
   "source": [
    "## numpy random"
   ]
  },
  {
   "cell_type": "code",
   "execution_count": 40,
   "metadata": {
    "collapsed": false
   },
   "outputs": [
    {
     "data": {
      "text/plain": [
       "array([[ 0.68543134,  0.05989286],\n",
       "       [ 0.02276247,  0.87271796],\n",
       "       [ 0.90003156,  0.768343  ]])"
      ]
     },
     "execution_count": 40,
     "metadata": {},
     "output_type": "execute_result"
    }
   ],
   "source": [
    "np.random.rand(3,2)"
   ]
  },
  {
   "cell_type": "code",
   "execution_count": 41,
   "metadata": {
    "collapsed": false
   },
   "outputs": [
    {
     "data": {
      "text/plain": [
       "array([[ 4.35627742,  1.10626838,  8.87790999,  1.75241195],\n",
       "       [ 6.34865532,  2.87090051,  0.32242871,  2.24435301]])"
      ]
     },
     "execution_count": 41,
     "metadata": {},
     "output_type": "execute_result"
    }
   ],
   "source": [
    "# Return a sample (or samples) from the “standard normal” distribution.\n",
    "2.5 * np.random.randn(2, 4) + 3"
   ]
  },
  {
   "cell_type": "markdown",
   "metadata": {},
   "source": [
    "## array creation using function"
   ]
  },
  {
   "cell_type": "code",
   "execution_count": 45,
   "metadata": {
    "collapsed": false
   },
   "outputs": [
    {
     "data": {
      "text/plain": [
       "array([[[  0.,   1.,   4.],\n",
       "        [  1.,   2.,   5.],\n",
       "        [  4.,   5.,   8.]],\n",
       "\n",
       "       [[  1.,   2.,   5.],\n",
       "        [  2.,   3.,   6.],\n",
       "        [  5.,   6.,   9.]],\n",
       "\n",
       "       [[  4.,   5.,   8.],\n",
       "        [  5.,   6.,   9.],\n",
       "        [  8.,   9.,  12.]]])"
      ]
     },
     "execution_count": 45,
     "metadata": {},
     "output_type": "execute_result"
    }
   ],
   "source": [
    "def my_func(a,b,c):\n",
    "    return a*a + b*b + c*c\n",
    "\n",
    "np.fromfunction(my_func,(3,3,3))"
   ]
  },
  {
   "cell_type": "markdown",
   "metadata": {},
   "source": [
    "## Basic Operations"
   ]
  },
  {
   "cell_type": "code",
   "execution_count": 53,
   "metadata": {
    "collapsed": false
   },
   "outputs": [
    {
     "name": "stdout",
     "output_type": "stream",
     "text": [
      "[22 33 44 55]\n",
      "[18 27 36 45]\n",
      "[ 40  90 160 250]\n",
      "[10 10 10 10]\n",
      "[      400     27000   2560000 312500000]\n",
      "[ 9.12945251 -9.88031624  7.4511316  -2.62374854]\n",
      "[False False False False]\n"
     ]
    }
   ],
   "source": [
    "a = np.array( [20,30,40,50] )\n",
    "b = np.array( [2,3,4,5] )\n",
    "\n",
    "# addition\n",
    "c = a + b\n",
    "print(c)\n",
    "\n",
    "# sub\n",
    "c = a - b\n",
    "print(c)\n",
    "\n",
    "# mul\n",
    "c = a * b\n",
    "print(c)\n",
    "\n",
    "# div\n",
    "c = a / b\n",
    "print(c)\n",
    "\n",
    "# power\n",
    "c = a ** b\n",
    "print(c)\n",
    "\n",
    "# boolean compare\n",
    "c = a < b\n",
    "print(c)"
   ]
  },
  {
   "cell_type": "code",
   "execution_count": 60,
   "metadata": {
    "collapsed": false
   },
   "outputs": [
    {
     "name": "stdout",
     "output_type": "stream",
     "text": [
      "[ 9.12945251 -9.88031624  7.4511316  -2.62374854]\n",
      "[  4.85165195e+08   1.06864746e+13   2.35385267e+17   5.18470553e+21]\n",
      "[ 44.72135955  54.77225575  63.2455532   70.71067812]\n"
     ]
    }
   ],
   "source": [
    "a = np.array( [20,30,40,50] )\n",
    "\n",
    "# sin\n",
    "c = np.sin(a) * 10\n",
    "print(c)\n",
    "\n",
    "# exp\n",
    "c = np.exp(a) \n",
    "print(c)\n",
    "\n",
    "# sqrt\n",
    "c = np.sqrt(a) * 10\n",
    "print(c)"
   ]
  },
  {
   "cell_type": "markdown",
   "metadata": {},
   "source": [
    "## numpy matrix multiplication"
   ]
  },
  {
   "cell_type": "code",
   "execution_count": 57,
   "metadata": {
    "collapsed": false
   },
   "outputs": [
    {
     "name": "stdout",
     "output_type": "stream",
     "text": [
      "[[2 0]\n",
      " [0 4]]\n",
      "[[5 4]\n",
      " [3 4]]\n",
      "[[5 4]\n",
      " [3 4]]\n"
     ]
    }
   ],
   "source": [
    "A = np.array( [[1,1],[0,1]] )\n",
    "B = np.array( [[2,0],[3,4]] )\n",
    "\n",
    "# elemetn wise product\n",
    "print(A*B)\n",
    "\n",
    "# dot product (matrix multiplicarion)\n",
    "print(A.dot(B))\n",
    "print(np.dot(A,B))"
   ]
  },
  {
   "cell_type": "markdown",
   "metadata": {},
   "source": [
    "## Indexing, Slicing and Iterating"
   ]
  },
  {
   "cell_type": "code",
   "execution_count": 64,
   "metadata": {
    "collapsed": false
   },
   "outputs": [
    {
     "name": "stdout",
     "output_type": "stream",
     "text": [
      "[  0   1   8  27  64 125 216 343 512 729]\n",
      "8\n",
      "[ 8 27 64]\n",
      "[  8  64 216 512]\n"
     ]
    }
   ],
   "source": [
    "# 1d\n",
    "\n",
    "a = np.arange(10)**3\n",
    "print(a)\n",
    "\n",
    "# acces element at specific index\n",
    "print(a[2])\n",
    "\n",
    "# access elements within range\n",
    "print(a[2:5])\n",
    "\n",
    "# access elements within range\n",
    "print(a[2:9:2])"
   ]
  },
  {
   "cell_type": "code",
   "execution_count": 71,
   "metadata": {
    "collapsed": false
   },
   "outputs": [
    {
     "name": "stdout",
     "output_type": "stream",
     "text": [
      "[[ 0  1  2  3]\n",
      " [10 11 12 13]\n",
      " [20 21 22 23]\n",
      " [30 31 32 33]\n",
      " [40 41 42 43]]\n",
      "23\n",
      "[ 0 10 20 30 40]\n",
      "[[ 0  1]\n",
      " [10 11]\n",
      " [20 21]\n",
      " [30 31]\n",
      " [40 41]]\n"
     ]
    }
   ],
   "source": [
    "# nd\n",
    "\n",
    "def f(x,y):\n",
    "    return 10*x+y\n",
    "\n",
    "b = np.fromfunction(f,(5,4),dtype=int)\n",
    "\n",
    "print(b)\n",
    "\n",
    "# access specific element\n",
    "print(b[2,3])\n",
    "\n",
    "print(b[0:5, 0])\n",
    "\n",
    "print(b[0:5, 0:2])"
   ]
  },
  {
   "cell_type": "markdown",
   "metadata": {},
   "source": [
    "## Iteration"
   ]
  },
  {
   "cell_type": "code",
   "execution_count": 73,
   "metadata": {
    "collapsed": false
   },
   "outputs": [
    {
     "name": "stdout",
     "output_type": "stream",
     "text": [
      "[0 1 2 3]\n",
      "[10 11 12 13]\n",
      "[20 21 22 23]\n",
      "[30 31 32 33]\n",
      "[40 41 42 43]\n",
      "0\n",
      "1\n",
      "2\n",
      "3\n",
      "10\n",
      "11\n",
      "12\n",
      "13\n",
      "20\n",
      "21\n",
      "22\n",
      "23\n",
      "30\n",
      "31\n",
      "32\n",
      "33\n",
      "40\n",
      "41\n",
      "42\n",
      "43\n"
     ]
    }
   ],
   "source": [
    "def f(x,y):\n",
    "    return 10*x+y\n",
    "\n",
    "b = np.fromfunction(f,(5,4),dtype=int)\n",
    "\n",
    "# Iterating over multidimensional arrays is done with respect to the first axis:\n",
    "for row in b:\n",
    "    print(row)\n",
    "    \n",
    "# However, if one wants to perform an operation on each element in the array, \n",
    "# one can use the flat attribute which is an iterator over all the elements of the array:\n",
    "for element in b.flat:\n",
    "    print(element)"
   ]
  },
  {
   "cell_type": "markdown",
   "metadata": {},
   "source": [
    "## array reshape"
   ]
  },
  {
   "cell_type": "code",
   "execution_count": 77,
   "metadata": {
    "collapsed": false
   },
   "outputs": [
    {
     "name": "stdout",
     "output_type": "stream",
     "text": [
      "[[ 9.  0.  9.  6.]\n",
      " [ 9.  6.  4.  9.]\n",
      " [ 1.  1.  4.  8.]]\n",
      "[[ 9.  0.]\n",
      " [ 9.  6.]\n",
      " [ 9.  6.]\n",
      " [ 4.  9.]\n",
      " [ 1.  1.]\n",
      " [ 4.  8.]]\n",
      "[[ 9.  9.  9.  4.  1.  4.]\n",
      " [ 0.  6.  6.  9.  1.  8.]]\n"
     ]
    }
   ],
   "source": [
    "a = np.floor(10*np.random.random((3,4)))\n",
    "print(a)\n",
    "\n",
    "# reshape\n",
    "a = a.reshape(6,2)\n",
    "print(a)\n",
    "\n",
    "# transpose\n",
    "a = a.T\n",
    "print(a)\n",
    "\n"
   ]
  }
 ],
 "metadata": {
  "kernelspec": {
   "display_name": "Python 2",
   "language": "python",
   "name": "python2"
  },
  "language_info": {
   "codemirror_mode": {
    "name": "ipython",
    "version": 2
   },
   "file_extension": ".py",
   "mimetype": "text/x-python",
   "name": "python",
   "nbconvert_exporter": "python",
   "pygments_lexer": "ipython2",
   "version": "2.7.6"
  }
 },
 "nbformat": 4,
 "nbformat_minor": 1
}
